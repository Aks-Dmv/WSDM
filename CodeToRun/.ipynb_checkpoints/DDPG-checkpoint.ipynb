{
 "cells": [
  {
   "cell_type": "markdown",
   "metadata": {},
   "source": [
    "# Deep Deterministic Policy Gradients (DDPG)\n",
    "---\n",
    "In this notebook, we train DDPG with OpenAI Gym's BipedalWalker-v2 environment.\n",
    "\n",
    "### 1. Import the Necessary Packages"
   ]
  },
  {
   "cell_type": "code",
   "execution_count": 1,
   "metadata": {},
   "outputs": [
    {
     "name": "stderr",
     "output_type": "stream",
     "text": [
      "Using TensorFlow backend.\n"
     ]
    }
   ],
   "source": [
    "import gym\n",
    "import numpy as np\n",
    "import random\n",
    "import copy\n",
    "from collections import namedtuple, deque\n",
    "from replay_buffer import ReplayBuffer\n",
    "\n",
    "import tensorflow as tf\n",
    "from keras import backend as K\n",
    "from keras.layers import Dense, Input, Add, Activation,LeakyReLU\n",
    "from keras.layers import GaussianNoise, Dropout, Concatenate\n",
    "from keras.models import Model\n",
    "from keras.optimizers import Adam\n",
    "import matplotlib.pyplot as plt\n",
    "%matplotlib inline\n",
    "\n",
    "from ddpg_agent import Agent\n",
    "from BFSWorld import BFSWorldEnv\n",
    "from infoCalc import *"
   ]
  },
  {
   "cell_type": "markdown",
   "metadata": {},
   "source": [
    "### 2. Instantiate the Environment and Agent"
   ]
  },
  {
   "cell_type": "code",
   "execution_count": 2,
   "metadata": {},
   "outputs": [
    {
     "name": "stdout",
     "output_type": "stream",
     "text": [
      "4\n",
      "WARNING:tensorflow:From /usr/local/lib/python3.7/site-packages/tensorflow/python/framework/op_def_library.py:263: colocate_with (from tensorflow.python.framework.ops) is deprecated and will be removed in a future version.\n",
      "Instructions for updating:\n",
      "Colocations handled automatically by placer.\n",
      "WARNING:tensorflow:From /usr/local/lib/python3.7/site-packages/keras/backend/tensorflow_backend.py:3445: calling dropout (from tensorflow.python.ops.nn_ops) with keep_prob is deprecated and will be removed in a future version.\n",
      "Instructions for updating:\n",
      "Please use `rate` instead of `keep_prob`. Rate should be set to `rate = 1 - keep_prob`.\n",
      "WARNING:tensorflow:From /usr/local/lib/python3.7/site-packages/tensorflow/python/ops/math_ops.py:3066: to_int32 (from tensorflow.python.ops.math_ops) is deprecated and will be removed in a future version.\n",
      "Instructions for updating:\n",
      "Use tf.cast instead.\n"
     ]
    }
   ],
   "source": [
    "sess = tf.Session()\n",
    "K.set_session(sess)\n",
    "\n",
    "env = BFSWorldEnv()\n",
    "env.seed(10)\n",
    "print(env.action_space.shape[0])\n",
    "agent = Agent(env, sess,state_size=env.observation_space.shape[0], action_size=env.action_space.shape[0], random_seed=10)\n",
    "#agent.NetworkSummary()\n",
    "#agent.load_network('savedModels/', 'saved.h5')"
   ]
  },
  {
   "cell_type": "markdown",
   "metadata": {},
   "source": [
    "### 3. Train the Agent with DDPG\n",
    "\n",
    "Run the code cell below to train the agent from scratch.  Alternatively, you can skip to the next code cell to load the pre-trained weights from file."
   ]
  },
  {
   "cell_type": "code",
   "execution_count": 3,
   "metadata": {
    "scrolled": true
   },
   "outputs": [
    {
     "name": "stdout",
     "output_type": "stream",
     "text": [
      "Episode 300\tAverage Score: 252.27\tScore: 1389.760\n",
      "Episode 600\tAverage Score: 484.50\tScore: -2.06398\n",
      "Episode 900\tAverage Score: 792.56\tScore: 2660.050\n",
      "Episode 1200\tAverage Score: 1050.24\tScore: 5032.31\n",
      "Episode 1500\tAverage Score: 2234.59\tScore: 444.8939\n",
      "Episode 1800\tAverage Score: 3318.37\tScore: 6990.501\n",
      "Episode 2100\tAverage Score: 4513.09\tScore: 7254.185\n",
      "Episode 2400\tAverage Score: 5250.28\tScore: 17642.42\n",
      "Episode 2700\tAverage Score: 6614.62\tScore: -61.7639\n",
      "Episode 3000\tAverage Score: 6746.84\tScore: -25.0027\n",
      "Episode 3300\tAverage Score: 7033.19\tScore: 7375.072\n",
      "Episode 3600\tAverage Score: 6345.60\tScore: 11815.98\n",
      "Episode 3900\tAverage Score: 5876.58\tScore: 3273.572\n",
      "Episode 4200\tAverage Score: 5819.02\tScore: 5820.712\n",
      "Episode 4500\tAverage Score: 5742.45\tScore: 5114.137\n",
      "Episode 4800\tAverage Score: 5943.78\tScore: 4597.377\n",
      "Episode 5100\tAverage Score: 6540.06\tScore: 1761.347\n",
      "Episode 5400\tAverage Score: 6181.11\tScore: 5591.762\n",
      "Episode 5700\tAverage Score: 5983.06\tScore: 4648.963\n",
      "Episode 6000\tAverage Score: 5772.50\tScore: 1084.155\n",
      "Episode 6300\tAverage Score: 5446.05\tScore: 5289.742\n",
      "Episode 6600\tAverage Score: 5076.95\tScore: 12735.39\n",
      "Episode 6900\tAverage Score: 4626.26\tScore: 2093.122\n",
      "Episode 7200\tAverage Score: 5549.69\tScore: 9024.319\n",
      "Episode 7500\tAverage Score: 5292.33\tScore: -26.2097\n",
      "Episode 7800\tAverage Score: 3492.84\tScore: -15.97\n",
      "Episode 8100\tAverage Score: 2047.55\tScore: -11.33\n",
      "Episode 8400\tAverage Score: -20.07\tScore: -55.089\n",
      "Episode 8700\tAverage Score: -35.14\tScore: -25.007\n",
      "Episode 9000\tAverage Score: -39.74\tScore: -25.007\n",
      "Episode 9300\tAverage Score: -43.79\tScore: -25.006\n",
      "Episode 9600\tAverage Score: -31.55\tScore: -25.0040\n",
      "Episode 9900\tAverage Score: -53.89\tScore: -25.0089\n",
      "Episode 10000\tAverage Score: -72.58\tScore: -25.0003"
     ]
    },
    {
     "data": {
      "image/png": "[encoded data removed]",
      "text/plain": [
       "<Figure size 432x288 with 1 Axes>"
      ]
     },
     "metadata": {
      "needs_background": "light"
     },
     "output_type": "display_data"
    }
   ],
   "source": [
    "def ddpg(n_episodes=5000, max_t=30):\n",
    "    scores_deque = deque(maxlen=1000)\n",
    "    scores = []\n",
    "    max_score = -np.Inf\n",
    "    for i_episode in range(1, n_episodes+1):\n",
    "        state = env.reset()\n",
    "        #agent.reset()\n",
    "\n",
    "        score = 0\n",
    "        for t in range(max_t):\n",
    "            #print(t,len(env.StateBuffer),state,score)\n",
    "            action = agent.act(state,True)\n",
    "            #print(t,len(env.StateBuffer),state,score,action)\n",
    "            next_state, reward, done, _ = env.step(action)\n",
    "            agent.step(state, action, reward, next_state, done)\n",
    "            state = next_state\n",
    "            score += reward\n",
    "            #print(score)\n",
    "            #env.render()\n",
    "            if done:\n",
    "                #print(\"done\",done)\n",
    "                break \n",
    "        #env.render()\n",
    "        scores_deque.append(score)\n",
    "        scores.append(score)\n",
    "        #env.render()\n",
    "        print('\\rEpisode {}\\tAverage Score: {:.2f}\\tScore: {:.2f}'.format(i_episode, np.mean(scores_deque), score), end=\"\")\n",
    "        if i_episode % 300 == 0:\n",
    "            agent.save_network('savedModels/', 'saved.h5')\n",
    "            print('\\rEpisode {}\\tAverage Score: {:.2f}'.format(i_episode, np.mean(scores_deque)))\n",
    "            #state = env.reset()\n",
    "            \n",
    "        \n",
    "        \n",
    "    agent.save_network('savedModels/', 'saved.h5')\n",
    "    return scores\n",
    "\n",
    "scores = ddpg()\n",
    "\n",
    "fig = plt.figure()\n",
    "ax = fig.add_subplot(111)\n",
    "plt.plot(np.arange(1, len(scores)+1), scores)\n",
    "plt.ylabel('Score')\n",
    "plt.xlabel('Episode #')\n",
    "plt.show()"
   ]
  },
  {
   "cell_type": "markdown",
   "metadata": {},
   "source": [
    "### 4. Watch a Smart Agent!\n",
    "\n",
    "In the next code cell, you will load the trained weights from file to watch a smart agent!"
   ]
  },
  {
   "cell_type": "code",
   "execution_count": 4,
   "metadata": {},
   "outputs": [
    {
     "name": "stdout",
     "output_type": "stream",
     "text": [
      "Successfully saved network.\n"
     ]
    },
    {
     "data": {
      "image/png": "[encoded data removed]",
      "text/plain": [
       "<Figure size 432x288 with 1 Axes>"
      ]
     },
     "metadata": {
      "needs_background": "light"
     },
     "output_type": "display_data"
    },
    {
     "name": "stdout",
     "output_type": "stream",
     "text": [
      "enter\n",
      "-25.0\n",
      "Simulation Over\n"
     ]
    }
   ],
   "source": [
    "agent.load_network('savedModels/', 'saved.h5')\n",
    "state = env.reset()\n",
    "   \n",
    "while True:\n",
    "    action = agent.act(state,False)\n",
    "    env.render()\n",
    "    next_state, reward, done, _ = env.step(action)\n",
    "    print(reward)\n",
    "    state = next_state\n",
    "    if done:\n",
    "        break\n",
    "        \n",
    "env.close()"
   ]
  },
  {
   "cell_type": "markdown",
   "metadata": {},
   "source": [
    "### 5. Explore\n",
    "\n",
    "In this exercise, we have provided a sample DDPG agent and demonstrated how to use it to solve an OpenAI Gym environment.  To continue your learning, you are encouraged to complete any (or all!) of the following tasks:\n",
    "- Amend the various hyperparameters and network architecture to see if you can get your agent to solve the environment faster than this benchmark implementation.  Once you build intuition for the hyperparameters that work well with this environment, try solving a different OpenAI Gym task!\n",
    "- Write your own DDPG implementation.  Use this code as reference only when needed -- try as much as you can to write your own algorithm from scratch.\n",
    "- You may also like to implement prioritized experience replay, to see if it speeds learning.  \n",
    "- The current implementation adds Ornsetein-Uhlenbeck noise to the action space.  However, it has [been shown](https://blog.openai.com/better-exploration-with-parameter-noise/) that adding noise to the parameters of the neural network policy can improve performance.  Make this change to the code, to verify it for yourself!\n",
    "- Write a blog post explaining the intuition behind the DDPG algorithm and demonstrating how to use it to solve an RL environment of your choosing.  "
   ]
  },
  {
   "cell_type": "code",
   "execution_count": null,
   "metadata": {},
   "outputs": [],
   "source": [
    "\n"
   ]
  }
 ],
 "metadata": {
  "kernelspec": {
   "display_name": "Python 3",
   "language": "python",
   "name": "python3"
  },
  "language_info": {
   "codemirror_mode": {
    "name": "ipython",
    "version": 3
   },
   "file_extension": ".py",
   "mimetype": "text/x-python",
   "name": "python",
   "nbconvert_exporter": "python",
   "pygments_lexer": "ipython3",
   "version": "3.7.2"
  }
 },
 "nbformat": 4,
 "nbformat_minor": 2
}
